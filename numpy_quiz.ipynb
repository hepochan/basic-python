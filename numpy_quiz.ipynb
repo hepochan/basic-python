{
 "cells": [
  {
   "cell_type": "markdown",
   "metadata": {},
   "source": [
    "# Numpyの確認課題"
   ]
  },
  {
   "cell_type": "markdown",
   "metadata": {},
   "source": [
    "## 必要モジュールのインポート\n",
    "\n",
    "この問題で使うモジュールをインポートします．"
   ]
  },
  {
   "cell_type": "code",
   "execution_count": 2,
   "metadata": {},
   "outputs": [],
   "source": [
    "import matplotlib.pyplot as plt\n",
    "import numpy as np\n",
    "\n",
    "np.random.seed(0)"
   ]
  },
  {
   "cell_type": "markdown",
   "metadata": {},
   "source": [
    "---"
   ]
  },
  {
   "cell_type": "markdown",
   "metadata": {},
   "source": [
    "### 問1. `ndarray`の生成\n",
    "\n",
    "以下の2つの`ndarray`を定義しなさい．\n",
    "- 観測値 `x`: 初項`0`，末項`5`，項数`100`の等差数列\n",
    "- ノイズ `noise`: 標準正規分布に従う`100`個の乱数"
   ]
  },
  {
   "cell_type": "code",
   "execution_count": 52,
   "metadata": {},
   "outputs": [],
   "source": [
    "x=np.arange(0,5+5/99,5/99)\n",
    "noise=np.random.randn(100)"
   ]
  },
  {
   "cell_type": "markdown",
   "metadata": {},
   "source": [
    "---"
   ]
  },
  {
   "cell_type": "markdown",
   "metadata": {},
   "source": [
    "ここで，真の関数 $y(x) = 3 - 5x + x^2$ を定義します．"
   ]
  },
  {
   "cell_type": "code",
   "execution_count": 8,
   "metadata": {},
   "outputs": [],
   "source": [
    "def y(x):\n",
    "    \"\"\"真の関数\"\"\"\n",
    "    return 3 - 5 * x + x ** 2"
   ]
  },
  {
   "cell_type": "markdown",
   "metadata": {},
   "source": [
    "### 問2． `ndarray`の操作\n",
    "\n",
    "問1で生成した観測値 `x` に対応する目標値 `t` を定義しなさい．\n",
    "\n",
    "目標値 $t$ は， $t = y(x) + \\epsilon$ と表されます．  ( $y$: 真の関数, $\\epsilon$: ノイズ )  \n",
    "実際の観測値にはどうしてもノイズ(観測誤差)が発生してしまいます．今回は，それを`noise`で再現します．\n",
    "\n",
    "問1で観測値を100個生成したので，それぞれに対応する目標値も100個作成する必要がありますが， `for` 文は絶対使ってはいけません．"
   ]
  },
  {
   "cell_type": "code",
   "execution_count": 45,
   "metadata": {},
   "outputs": [
    {
     "name": "stdout",
     "output_type": "stream",
     "text": [
      "[ 3.20147995  3.29079909  0.68707491  2.21605701  2.26974475  0.80081239\n",
      "  3.25066156  1.51886975  2.70645137  0.14336128 -0.17747663  0.75511642\n",
      " -1.34168193  0.36321577  0.06181468  0.80170752  0.31363189 -0.97323697\n",
      " -1.81650492  0.83514983 -1.82231602 -2.22366964 -2.40584371 -0.34142339\n",
      " -2.11026843 -2.4726107  -1.70365289 -2.1656224  -2.74900659 -1.42405159\n",
      " -1.21475797 -1.39168484 -1.70191004 -2.15293002 -4.41306788 -1.04445188\n",
      " -2.48313476 -2.2432873  -1.79769965 -1.53542619 -2.60139589 -2.63016142\n",
      " -3.70574402 -3.10914063 -4.02700077 -3.91828764 -4.11232759 -3.39008164\n",
      " -2.1951676  -0.07838754 -3.05986267 -4.59267388 -1.96907442 -3.51953706\n",
      " -3.8589557  -2.96299003 -4.38285498 -2.88405658 -3.1540831  -2.92141599\n",
      " -2.58736244 -2.84516972 -2.83510565 -2.50080945 -2.29830206 -3.66866234\n",
      " -3.98554681 -2.53046776 -3.80973784 -2.19254199 -1.23929618 -1.46379946\n",
      " -3.00684809 -2.70160517 -1.39060494 -1.99266603 -1.775384   -0.72408117\n",
      " -2.16543178 -1.43143571 -1.67723787 -1.76213776 -1.41283781  0.29005272\n",
      " -0.16213737 -0.91456518 -0.08285143 -1.30180088 -0.20244861  2.87939802\n",
      "  0.84364045  1.87470555  1.2918221   1.92484508  2.46440083  0.92609455\n",
      "  2.23444483  4.08401773  1.95452496  2.43356015]\n"
     ]
    }
   ],
   "source": [
    "t=np.array(y(x)+noise)\n",
    "print(t)"
   ]
  },
  {
   "cell_type": "markdown",
   "metadata": {},
   "source": [
    "matplotlib で可視化すると以下のようなグラフになります．\n",
    "scatter → 散布図"
   ]
  },
  {
   "cell_type": "code",
   "execution_count": 32,
   "metadata": {},
   "outputs": [
    {
     "data": {
      "text/plain": [
       "<matplotlib.collections.PathCollection at 0x10fdd7f40>"
      ]
     },
     "execution_count": 32,
     "metadata": {},
     "output_type": "execute_result"
    },
    {
     "data": {
      "image/png": "[encoded data removed]",
      "text/plain": [
       "<Figure size 640x480 with 1 Axes>"
      ]
     },
     "metadata": {},
     "output_type": "display_data"
    }
   ],
   "source": [
    "plt.scatter(x, t)"
   ]
  },
  {
   "cell_type": "markdown",
   "metadata": {},
   "source": [
    "---"
   ]
  },
  {
   "cell_type": "markdown",
   "metadata": {},
   "source": [
    "### 問3. `ndarray`の結合\n",
    "\n",
    "以下の3つの`ndarray`を垂直方向に結合した2次元配列を転置した行列 `X` を定義しなさい．\n",
    "\n",
    "- x0: 長さが `x` と同じで要素が全て1の`ndarray`\n",
    "- x1: 観測値 `x` の各要素を1乗した`ndarray`\n",
    "- x2: 観測値 `x` の各要素を2乗した`ndarray`\n",
    "\n",
    "例： $x = (1, 2, 3)$ のとき，\n",
    "\n",
    "$$\n",
    "x_0 = (1, 1, 1)\\\\\n",
    "x_1 = (1, 2, 3)\\\\\n",
    "x_2 = (1, 4, 9)\n",
    "$$\n",
    "\n",
    "だから，\n",
    "\n",
    "$$\n",
    "X = \\left(\n",
    "\\begin{array}{ccc}\n",
    "    1 & 1 & 1 \\\\\n",
    "    1 & 2 & 3 \\\\\n",
    "    1 & 4 & 9\n",
    "\\end{array}\n",
    "\\right)^T\n",
    "= \\left(\n",
    "\\begin{array}{ccc}\n",
    "    1 & 1 & 1 \\\\\n",
    "    1 & 2 & 4 \\\\\n",
    "    1 & 3 & 9\n",
    "\\end{array}\n",
    "\\right)\n",
    "$$\n",
    "\n",
    "ちなみに，機械学習では `X` のような行列を計画行列と呼びます．"
   ]
  },
  {
   "cell_type": "code",
   "execution_count": 58,
   "metadata": {},
   "outputs": [
    {
     "data": {
      "text/plain": [
       "(100, 3)"
      ]
     },
     "execution_count": 58,
     "metadata": {},
     "output_type": "execute_result"
    }
   ],
   "source": [
    "x0=np.ones(x.size)\n",
    "x1=x\n",
    "x2=x*x\n",
    "X=np.stack([x0, x1, x2],1)\n",
    "X.shape\n",
    "\n",
    "\n"
   ]
  },
  {
   "cell_type": "markdown",
   "metadata": {},
   "source": [
    "---"
   ]
  },
  {
   "cell_type": "markdown",
   "metadata": {},
   "source": [
    "### 問4. 線形代数\n",
    "\n",
    "観測値 `x, t` をもとに真の関数 `y` を2次関数で回帰しなさい．\n",
    "\n",
    "任意の2次関数は $y(x) = w_0 + w_1 x + w_2 x^2$ と表すことができます．  \n",
    "なので，パラメータのベクトル $\\mathbf{w} = (w_0, w_1, w_2)$ を求めれば良いことになります．\n",
    "\n",
    "これは以下の正規方程式から求めることができます．\n",
    "\n",
    "$ \\mathbf{w} = (X^T X)^{-1} X^T \\mathbf{t} $\n",
    "\n",
    "この式の導出はdev_data勉強会で学びます．\n",
    "\n",
    "行列の積が多い場合は`np.dot`を使わない方が簡潔に書けます．"
   ]
  },
  {
   "cell_type": "code",
   "execution_count": 59,
   "metadata": {},
   "outputs": [],
   "source": [
    "w0, w1, w2 = np.linalg.inv(X.T @ X) @ X.T @ t\n",
    "pred_y = w0 + w1 * x + w2 * x ** 2"
   ]
  },
  {
   "cell_type": "markdown",
   "metadata": {},
   "source": [
    "---"
   ]
  },
  {
   "cell_type": "markdown",
   "metadata": {},
   "source": [
    "### 結果\n",
    "\n",
    "先ほどのグラフに真の関数(緑)と回帰曲線(赤)を重ねると以下のようになります．"
   ]
  },
  {
   "cell_type": "code",
   "execution_count": 60,
   "metadata": {},
   "outputs": [
    {
     "data": {
      "text/plain": [
       "<matplotlib.legend.Legend at 0x11c0dac10>"
      ]
     },
     "execution_count": 60,
     "metadata": {},
     "output_type": "execute_result"
    },
    {
     "data": {
      "image/png": "[encoded data removed]",
      "text/plain": [
       "<Figure size 640x480 with 1 Axes>"
      ]
     },
     "metadata": {},
     "output_type": "display_data"
    }
   ],
   "source": [
    "plt.scatter(x, t)\n",
    "plt.plot(x, pred_y, linewidth=5, color=\"red\", label=\"pred\")\n",
    "plt.plot(x, y(x), linewidth=5, color=\"green\", label=\"true\")\n",
    "plt.legend()"
   ]
  },
  {
   "cell_type": "markdown",
   "metadata": {},
   "source": [
    "今回使った手法は 真の関数 `y` の定義を変更するとその他のコードを全く変更しなくても同様に回帰することができます．\n",
    "\n",
    "例えば以下のように変更したらその関数を回帰します．\n",
    "\n",
    "```python\n",
    "def y(x):\n",
    "    \"\"\"真の関数\"\"\"\n",
    "    return 5 * np.sin(np.pi * x / 5)\n",
    "```\n",
    "dev_data勉強会で詳しくやりますが，この回帰曲線の表現力は2次までです．\n",
    "カーブが2つ以上の曲線を回帰したい場合は問3の計画行列の列数を　`x3, x4...`　のように増やせば表現力が上がります．"
   ]
  },
  {
   "cell_type": "code",
   "execution_count": null,
   "metadata": {},
   "outputs": [],
   "source": []
  }
 ],
 "metadata": {
  "kernelspec": {
   "display_name": "Python 3",
   "language": "python",
   "name": "python3"
  },
  "language_info": {
   "codemirror_mode": {
    "name": "ipython",
    "version": 3
   },
   "file_extension": ".py",
   "mimetype": "text/x-python",
   "name": "python",
   "nbconvert_exporter": "python",
   "pygments_lexer": "ipython3",
   "version": "3.9.6"
  }
 },
 "nbformat": 4,
 "nbformat_minor": 4
}
